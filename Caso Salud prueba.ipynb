{
 "cells": [
  {
   "cell_type": "markdown",
   "id": "52cd1b00-e3ce-4369-9f86-160057326cc9",
   "metadata": {},
   "source": [
    "## <center><span style=\"color:green\">Prueba Práctica – Simulador/ Modelador en Python 🎯 </span></center> \n"
   ]
  },
  {
   "cell_type": "markdown",
   "id": "79396ba7-3e59-47be-abf8-d3eb9eee4dc3",
   "metadata": {},
   "source": [
    "### <span style=\"color:green\">📚📚 Librerías</span>\n"
   ]
  },
  {
   "cell_type": "code",
   "execution_count": 4,
   "id": "2e600c34-4393-46d9-8f71-b81e4c5616af",
   "metadata": {},
   "outputs": [],
   "source": [
    "import pandas as pd\n",
    "import matplotlib.pyplot as plt\n",
    "import seaborn as sns"
   ]
  },
  {
   "cell_type": "markdown",
   "id": "c122b64b-9102-4600-8c25-40a000c91df6",
   "metadata": {},
   "source": [
    "### <span style=\"color:green\">🅾️ a) Grafo asociado al modelo de la situación</span>"
   ]
  },
  {
   "cell_type": "markdown",
   "id": "2c1d4809-4a36-4edb-9cef-641ebc8c70f2",
   "metadata": {},
   "source": [
    "Sano (QoL: 100%)\n",
    "  └── Infectado - Fase inicial (Días 0–10, QoL: 100%)\n",
    "       ├── Sin tratamiento\n",
    "       │    └── Crisis\n",
    "       │         ├── Muere (15%, QoL: 0%)\n",
    "       │         └── Sobrevive (85%)\n",
    "       │              └── Post-crisis sin tratamiento (QoL: 90%)\n",
    "       │\n",
    "       ├── Tratamiento A\n",
    "       │    └── Crisis\n",
    "       │         ├── Muere (3%, QoL: 0%)\n",
    "       │         └── Sobrevive (97%)\n",
    "       │              └── Post-crisis con secuela (QoL: 88%)\n",
    "       │                   └── Reducción permanente de 12%\n",
    "       │\n",
    "       └── Tratamiento B\n",
    "            └── Crisis\n",
    "                 ├── Muere (15%, QoL: 0%)\n",
    "                 └── Sobrevive (85%)\n",
    "                      └── Fase de tratamiento (QoL: -50%)\n",
    "                           └── Post-crisis con secuela (QoL: 96%)\n",
    "                                └── Reducción permanente de 4%\n"
   ]
  },
  {
   "cell_type": "markdown",
   "id": "f3af0664-9ecd-4c43-8ff6-fc01c297f155",
   "metadata": {},
   "source": [
    "### <span style=\"color:green\">🆎 b) Calibración del modelo y presentación de resultados</span>"
   ]
  },
  {
   "cell_type": "code",
   "execution_count": 8,
   "id": "2adcf34e-bb04-45c3-a8e1-895a6fbfaffe",
   "metadata": {},
   "outputs": [
    {
     "data": {
      "text/html": [
       "<div>\n",
       "<style scoped>\n",
       "    .dataframe tbody tr th:only-of-type {\n",
       "        vertical-align: middle;\n",
       "    }\n",
       "\n",
       "    .dataframe tbody tr th {\n",
       "        vertical-align: top;\n",
       "    }\n",
       "\n",
       "    .dataframe thead th {\n",
       "        text-align: right;\n",
       "    }\n",
       "</style>\n",
       "<table border=\"1\" class=\"dataframe\">\n",
       "  <thead>\n",
       "    <tr style=\"text-align: right;\">\n",
       "      <th></th>\n",
       "      <th>Estrategia</th>\n",
       "      <th>Probabilidad de muerte</th>\n",
       "      <th>Calidad en crisis</th>\n",
       "      <th>Calidad largo plazo</th>\n",
       "      <th>Utilidad esperada (QALYs)</th>\n",
       "    </tr>\n",
       "  </thead>\n",
       "  <tbody>\n",
       "    <tr>\n",
       "      <th>0</th>\n",
       "      <td>Sin tratamiento</td>\n",
       "      <td>0.15</td>\n",
       "      <td>0.65</td>\n",
       "      <td>0.90</td>\n",
       "      <td>7.7</td>\n",
       "    </tr>\n",
       "    <tr>\n",
       "      <th>1</th>\n",
       "      <td>Tratamiento 1</td>\n",
       "      <td>0.03</td>\n",
       "      <td>0.88</td>\n",
       "      <td>0.88</td>\n",
       "      <td>8.6</td>\n",
       "    </tr>\n",
       "    <tr>\n",
       "      <th>2</th>\n",
       "      <td>Tratamiento 2</td>\n",
       "      <td>0.15</td>\n",
       "      <td>0.50</td>\n",
       "      <td>0.96</td>\n",
       "      <td>8.2</td>\n",
       "    </tr>\n",
       "  </tbody>\n",
       "</table>\n",
       "</div>"
      ],
      "text/plain": [
       "        Estrategia  Probabilidad de muerte  Calidad en crisis  \\\n",
       "0  Sin tratamiento                    0.15               0.65   \n",
       "1    Tratamiento 1                    0.03               0.88   \n",
       "2    Tratamiento 2                    0.15               0.50   \n",
       "\n",
       "   Calidad largo plazo  Utilidad esperada (QALYs)  \n",
       "0                 0.90                        7.7  \n",
       "1                 0.88                        8.6  \n",
       "2                 0.96                        8.2  "
      ]
     },
     "execution_count": 8,
     "metadata": {},
     "output_type": "execute_result"
    },
    {
     "data": {
      "image/png": "[encoded data removed]",
      "text/plain": [
       "<Figure size 800x500 with 1 Axes>"
      ]
     },
     "metadata": {},
     "output_type": "display_data"
    }
   ],
   "source": [
    "# Creamos una versión para Jupyter Notebook del modelo de decisión en salud terminal\n",
    "\n",
    "\n",
    "\n",
    "# Parámetros base de las estrategias\n",
    "estrategias = {\n",
    "    'Sin tratamiento': {'p_muerte': 0.15, 'qv_crisis': 0.65, 'qv_largo_plazo': 0.90},\n",
    "    'Tratamiento 1': {'p_muerte': 0.03, 'qv_crisis': 0.88, 'qv_largo_plazo': 0.88},\n",
    "    'Tratamiento 2': {'p_muerte': 0.15, 'qv_crisis': 0.50, 'qv_largo_plazo': 0.96},\n",
    "}\n",
    "\n",
    "# Función para calcular la utilidad esperada (QALYs)\n",
    "def calcular_utilidad(p_muerte, qv_crisis, qv_largo):\n",
    "    dur_leve = 10 / 365\n",
    "    dur_crisis = 14 / 365\n",
    "    dur_largo = 10  # años\n",
    "    utilidad = dur_leve + (1 - p_muerte) * (dur_crisis * qv_crisis + dur_largo * qv_largo)\n",
    "    return utilidad\n",
    "\n",
    "# Calcular utilidades esperadas\n",
    "resultados = []\n",
    "for nombre, p in estrategias.items():\n",
    "    utilidad = calcular_utilidad(p['p_muerte'], p['qv_crisis'], p['qv_largo_plazo'])\n",
    "    resultados.append({\n",
    "        'Estrategia': nombre,\n",
    "        'Probabilidad de muerte': p['p_muerte'],\n",
    "        'Calidad en crisis': p['qv_crisis'],\n",
    "        'Calidad largo plazo': p['qv_largo_plazo'],\n",
    "        'Utilidad esperada (QALYs)': round(utilidad, 2)\n",
    "    })\n",
    "\n",
    "df_resultados = pd.DataFrame(resultados)\n",
    "\n",
    "# Graficar resultados\n",
    "fig, ax = plt.subplots(figsize=(8, 5))\n",
    "bars = ax.bar(df_resultados['Estrategia'], df_resultados['Utilidad esperada (QALYs)'], color=['gray', 'skyblue', 'lightgreen'])\n",
    "ax.set_ylabel('AVAC')\n",
    "ax.set_title('Comparación de estrategias de tratamiento')\n",
    "ax.bar_label(bars, fmt='%.2f')\n",
    "plt.tight_layout()\n",
    "\n",
    "# Mostrar DataFrame\n",
    "df_resultados\n",
    "\n"
   ]
  },
  {
   "cell_type": "markdown",
   "id": "7ad74f80-5c39-4e0d-add0-5a1fb11e25fd",
   "metadata": {},
   "source": [
    "### 🏆 Resultado\n",
    "### Tratamiento 1 resulta ser el mejor con 8.6 AVAC, gracias a su reducción en la mortalidad y afectación moderada en calidad de vida."
   ]
  },
  {
   "cell_type": "markdown",
   "id": "1f0a99a4-b3ae-41d8-9886-dfa4f07fc083",
   "metadata": {},
   "source": [
    "### <span style=\"color:green\">🔁 c) Análisis de sensibilidad (±10%)</span>\n"
   ]
  },
  {
   "cell_type": "markdown",
   "id": "201f252d-a1d7-4a38-8be6-145c11029347",
   "metadata": {},
   "source": [
    "p_muerte\n",
    "\n",
    "qv_crisis\n",
    "\n",
    "qv_largo_plazo"
   ]
  },
  {
   "cell_type": "code",
   "execution_count": 12,
   "id": "9e8049a9-ae6a-409a-bbc4-2643dfa476a1",
   "metadata": {},
   "outputs": [
    {
     "data": {
      "text/html": [
       "<div>\n",
       "<style scoped>\n",
       "    .dataframe tbody tr th:only-of-type {\n",
       "        vertical-align: middle;\n",
       "    }\n",
       "\n",
       "    .dataframe tbody tr th {\n",
       "        vertical-align: top;\n",
       "    }\n",
       "\n",
       "    .dataframe thead th {\n",
       "        text-align: right;\n",
       "    }\n",
       "</style>\n",
       "<table border=\"1\" class=\"dataframe\">\n",
       "  <thead>\n",
       "    <tr style=\"text-align: right;\">\n",
       "      <th></th>\n",
       "      <th>Escenario</th>\n",
       "      <th>Sin tratamiento</th>\n",
       "      <th>Tratamiento 1</th>\n",
       "      <th>Tratamiento 2</th>\n",
       "    </tr>\n",
       "  </thead>\n",
       "  <tbody>\n",
       "    <tr>\n",
       "      <th>0</th>\n",
       "      <td>-10%</td>\n",
       "      <td>7.0</td>\n",
       "      <td>7.7</td>\n",
       "      <td>7.5</td>\n",
       "    </tr>\n",
       "    <tr>\n",
       "      <th>1</th>\n",
       "      <td>Base</td>\n",
       "      <td>7.7</td>\n",
       "      <td>8.6</td>\n",
       "      <td>8.2</td>\n",
       "    </tr>\n",
       "    <tr>\n",
       "      <th>2</th>\n",
       "      <td>+10%</td>\n",
       "      <td>8.3</td>\n",
       "      <td>9.4</td>\n",
       "      <td>8.4</td>\n",
       "    </tr>\n",
       "  </tbody>\n",
       "</table>\n",
       "</div>"
      ],
      "text/plain": [
       "  Escenario  Sin tratamiento  Tratamiento 1  Tratamiento 2\n",
       "0      -10%              7.0            7.7            7.5\n",
       "1      Base              7.7            8.6            8.2\n",
       "2      +10%              8.3            9.4            8.4"
      ]
     },
     "execution_count": 12,
     "metadata": {},
     "output_type": "execute_result"
    }
   ],
   "source": [
    "import pandas as pd\n",
    "import numpy as np\n",
    "\n",
    "# Escenarios: -10%, Base, +10%\n",
    "escenarios = [\"-10%\", \"Base\", \"+10%\"]\n",
    "\n",
    "# Parámetros por escenario\n",
    "parametros = {\n",
    "    \"p_muerte_no_trat\": [0.135, 0.15, 0.165],\n",
    "    \"p_muerte_trat1\": [0.027, 0.03, 0.033],\n",
    "    \"p_muerte_trat2\": [0.135, 0.15, 0.165],  # igual que sin tratamiento\n",
    "    \"u_post_no_trat\": [0.81, 0.90, 0.99],\n",
    "    \"u_post_trat1\": [0.792, 0.88, 0.968],\n",
    "    \"u_post_trat2\": [0.864, 0.96, 1.0],\n",
    "    \"reduccion_crisis_trat1\": [0.108, 0.12, 0.132],\n",
    "    \"reduccion_crisis_trat2\": [0.45, 0.5, 0.55]\n",
    "}\n",
    "\n",
    "# Supuestos de duración\n",
    "t_crisis = 14 / 365.25  # tiempo en crisis (en años)\n",
    "t_post = 10  # tiempo post-crisis (en años)\n",
    "\n",
    "# Función para calcular QALYs esperados\n",
    "def calcular_qalys(p_muerte, u_crisis, u_post):\n",
    "    sobrevivencia = 1 - p_muerte\n",
    "    qalys_crisis = u_crisis * t_crisis\n",
    "    qalys_post = u_post * t_post * sobrevivencia\n",
    "    return qalys_crisis + qalys_post\n",
    "\n",
    "# Construcción de resultados\n",
    "resultados = []\n",
    "\n",
    "for i, esc in enumerate(escenarios):\n",
    "    # Sin tratamiento\n",
    "    qalys_nt = calcular_qalys(\n",
    "        p_muerte=parametros[\"p_muerte_no_trat\"][i],\n",
    "        u_crisis=1,  # sin reducción durante crisis\n",
    "        u_post=parametros[\"u_post_no_trat\"][i]\n",
    "    )\n",
    "    # Tratamiento 1\n",
    "    qalys_t1 = calcular_qalys(\n",
    "        p_muerte=parametros[\"p_muerte_trat1\"][i],\n",
    "        u_crisis=1 - parametros[\"reduccion_crisis_trat1\"][i],\n",
    "        u_post=parametros[\"u_post_trat1\"][i]\n",
    "    )\n",
    "    # Tratamiento 2\n",
    "    qalys_t2 = calcular_qalys(\n",
    "        p_muerte=parametros[\"p_muerte_trat2\"][i],\n",
    "        u_crisis=1 - parametros[\"reduccion_crisis_trat2\"][i],\n",
    "        u_post=parametros[\"u_post_trat2\"][i]\n",
    "    )\n",
    "    \n",
    "    resultados.append({\n",
    "        \"Escenario\": esc,\n",
    "        \"Sin tratamiento\": round(qalys_nt,1),\n",
    "        \"Tratamiento 1\": round (qalys_t1,1),\n",
    "        \"Tratamiento 2\": round(qalys_t2,1)\n",
    "    })\n",
    "\n",
    "df_resultados = pd.DataFrame(resultados)\n",
    "df_resultados\n"
   ]
  },
  {
   "cell_type": "markdown",
   "id": "78373ee9-0dd3-4c3b-a7fc-daa2967da1bb",
   "metadata": {},
   "source": [
    "### <span style=\"color:green\">📰📰 Cambiando a formato tabular</span>"
   ]
  },
  {
   "cell_type": "code",
   "execution_count": 14,
   "id": "8374e7e0-64f1-42b6-ab9d-3a581cbcc6f8",
   "metadata": {},
   "outputs": [
    {
     "data": {
      "text/html": [
       "<div>\n",
       "<style scoped>\n",
       "    .dataframe tbody tr th:only-of-type {\n",
       "        vertical-align: middle;\n",
       "    }\n",
       "\n",
       "    .dataframe tbody tr th {\n",
       "        vertical-align: top;\n",
       "    }\n",
       "\n",
       "    .dataframe thead th {\n",
       "        text-align: right;\n",
       "    }\n",
       "</style>\n",
       "<table border=\"1\" class=\"dataframe\">\n",
       "  <thead>\n",
       "    <tr style=\"text-align: right;\">\n",
       "      <th></th>\n",
       "      <th>Escenario</th>\n",
       "      <th>Estrategia</th>\n",
       "      <th>Valor</th>\n",
       "    </tr>\n",
       "  </thead>\n",
       "  <tbody>\n",
       "    <tr>\n",
       "      <th>0</th>\n",
       "      <td>-10%</td>\n",
       "      <td>Sin tratamiento</td>\n",
       "      <td>7.0</td>\n",
       "    </tr>\n",
       "    <tr>\n",
       "      <th>1</th>\n",
       "      <td>Base</td>\n",
       "      <td>Sin tratamiento</td>\n",
       "      <td>7.7</td>\n",
       "    </tr>\n",
       "    <tr>\n",
       "      <th>2</th>\n",
       "      <td>+10%</td>\n",
       "      <td>Sin tratamiento</td>\n",
       "      <td>8.3</td>\n",
       "    </tr>\n",
       "    <tr>\n",
       "      <th>3</th>\n",
       "      <td>-10%</td>\n",
       "      <td>Tratamiento 1</td>\n",
       "      <td>7.7</td>\n",
       "    </tr>\n",
       "    <tr>\n",
       "      <th>4</th>\n",
       "      <td>Base</td>\n",
       "      <td>Tratamiento 1</td>\n",
       "      <td>8.6</td>\n",
       "    </tr>\n",
       "    <tr>\n",
       "      <th>5</th>\n",
       "      <td>+10%</td>\n",
       "      <td>Tratamiento 1</td>\n",
       "      <td>9.4</td>\n",
       "    </tr>\n",
       "    <tr>\n",
       "      <th>6</th>\n",
       "      <td>-10%</td>\n",
       "      <td>Tratamiento 2</td>\n",
       "      <td>7.5</td>\n",
       "    </tr>\n",
       "    <tr>\n",
       "      <th>7</th>\n",
       "      <td>Base</td>\n",
       "      <td>Tratamiento 2</td>\n",
       "      <td>8.2</td>\n",
       "    </tr>\n",
       "    <tr>\n",
       "      <th>8</th>\n",
       "      <td>+10%</td>\n",
       "      <td>Tratamiento 2</td>\n",
       "      <td>8.4</td>\n",
       "    </tr>\n",
       "  </tbody>\n",
       "</table>\n",
       "</div>"
      ],
      "text/plain": [
       "  Escenario       Estrategia  Valor\n",
       "0      -10%  Sin tratamiento    7.0\n",
       "1      Base  Sin tratamiento    7.7\n",
       "2      +10%  Sin tratamiento    8.3\n",
       "3      -10%    Tratamiento 1    7.7\n",
       "4      Base    Tratamiento 1    8.6\n",
       "5      +10%    Tratamiento 1    9.4\n",
       "6      -10%    Tratamiento 2    7.5\n",
       "7      Base    Tratamiento 2    8.2\n",
       "8      +10%    Tratamiento 2    8.4"
      ]
     },
     "execution_count": 14,
     "metadata": {},
     "output_type": "execute_result"
    }
   ],
   "source": [
    "df_largo = df_resultados.melt(\n",
    "    id_vars='Escenario',\n",
    "    var_name='Estrategia',\n",
    "    value_name='Valor'\n",
    ")\n",
    "\n",
    "df_largo"
   ]
  },
  {
   "cell_type": "code",
   "execution_count": 30,
   "id": "c2cb26e9-6698-4515-954d-2e70663e9964",
   "metadata": {},
   "outputs": [
    {
     "data": {
      "image/png": "[encoded data removed]",
      "text/plain": [
       "<Figure size 1200x400 with 3 Axes>"
      ]
     },
     "metadata": {},
     "output_type": "display_data"
    }
   ],
   "source": [
    "# Crear el catplot\n",
    "g = sns.catplot(\n",
    "    data=df_largo,\n",
    "    kind='bar',\n",
    "    x='Estrategia',\n",
    "    y='Valor',\n",
    "    hue='Estrategia',\n",
    "    col='Escenario',\n",
    "    palette='Set2',\n",
    "    height=4,\n",
    "    aspect=1\n",
    ")\n",
    "\n",
    "# Añadir etiquetas a cada barra\n",
    "for ax in g.axes.flat:\n",
    "    for container in ax.containers:\n",
    "        ax.bar_label(container, fmt='%.2f', padding=2, fontsize=8)\n",
    "\n",
    "# Ajustes estéticos\n",
    "g.set_titles(col_template=\"{col_name}\")\n",
    "g.set_axis_labels(\"Estrategia\", \"AVAC\")\n",
    "g.set_xticklabels(rotation=45)\n",
    "g.fig.subplots_adjust(top=0.85)\n",
    "g.fig.suptitle(\"Comparación de estrategias por escenario\", fontsize=16)\n",
    "\n",
    "plt.tight_layout()\n",
    "plt.show()\n"
   ]
  },
  {
   "cell_type": "code",
   "execution_count": 34,
   "id": "dc62e7f9-99a0-4b4d-bab1-ec5970cf6ed3",
   "metadata": {},
   "outputs": [
    {
     "data": {
      "image/png": "[encoded data removed]",
      "text/plain": [
       "<Figure size 1200x400 with 3 Axes>"
      ]
     },
     "metadata": {},
     "output_type": "display_data"
    }
   ],
   "source": [
    "# Crear el catplot\n",
    "g = sns.catplot(\n",
    "    data=df_largo,\n",
    "    kind='bar',\n",
    "    x='Escenario',\n",
    "    y='Valor',\n",
    "    hue='Escenario',\n",
    "    col='Estrategia',\n",
    "    palette='Set2',\n",
    "    height=4,\n",
    "    aspect=1\n",
    ")\n",
    "\n",
    "# Añadir etiquetas a cada barra\n",
    "for ax in g.axes.flat:\n",
    "    for container in ax.containers:\n",
    "        ax.bar_label(container, fmt='%.2f', padding=2, fontsize=8)\n",
    "\n",
    "# Ajustes estéticos\n",
    "g.set_titles(col_template=\"{col_name}\")\n",
    "g.set_axis_labels(\"Escenario\", \"AVAC\")\n",
    "g.set_xticklabels(rotation=45)\n",
    "g.fig.subplots_adjust(top=0.85)\n",
    "g.fig.suptitle(\"Comparación de escenarios por estrategias\", fontsize=16)\n",
    "\n",
    "plt.tight_layout()\n",
    "plt.show()\n",
    "\n"
   ]
  },
  {
   "cell_type": "markdown",
   "id": "cb41579c-1cf2-43a1-8923-cfa0b964cf68",
   "metadata": {},
   "source": [
    "### <span style=\"color:green\">🏆 Conclusiones finales</span>\n",
    "\n",
    "* *Variando en un 10 % los parámetros,la decisión de optar por el tratamiento 1 se mantiene, ya que la calidad de vida durante la crisis y a largo plazo se mantiene (88 %)*\n",
    "\n",
    "* *Dentro del cálculo de los años de vida ajustados por calidad de vida (AVAC), se incluye la probabilidad de muerte, aunque en todos los casos el resultado es cero, ya que, aunque el ejercicio no lo considera, podría ser un valor negativo si el paciente considera que estar vivo en condiciones críticas es peor que morir*"
   ]
  }
 ],
 "metadata": {
  "kernelspec": {
   "display_name": "Python 3 (ipykernel)",
   "language": "python",
   "name": "python3"
  },
  "language_info": {
   "codemirror_mode": {
    "name": "ipython",
    "version": 3
   },
   "file_extension": ".py",
   "mimetype": "text/x-python",
   "name": "python",
   "nbconvert_exporter": "python",
   "pygments_lexer": "ipython3",
   "version": "3.12.3"
  }
 },
 "nbformat": 4,
 "nbformat_minor": 5
}
